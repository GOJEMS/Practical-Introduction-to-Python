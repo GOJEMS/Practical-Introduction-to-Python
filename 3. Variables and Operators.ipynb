{
 "cells": [
  {
   "cell_type": "code",
   "execution_count": 1,
   "metadata": {},
   "outputs": [],
   "source": [
    "# variableName = content\n",
    "\n",
    "# Declear variables\n",
    "age_1 = 10\n",
    "age_2 = 20\n",
    "firstPerson = \"Solomon Mbak\"\n",
    "secondPerson = \"Evelyn Jane Doe\""
   ]
  },
  {
   "cell_type": "code",
   "execution_count": 2,
   "metadata": {},
   "outputs": [
    {
     "name": "stdout",
     "output_type": "stream",
     "text": [
      "10\n",
      "20\n",
      "Solomon Mbak\n",
      "Evelyn Jane Doe\n"
     ]
    }
   ],
   "source": [
    "# Print the contents of the variables\n",
    "print(age_1)\n",
    "print(age_2)\n",
    "print(firstPerson)\n",
    "print(secondPerson)"
   ]
  },
  {
   "cell_type": "code",
   "execution_count": 5,
   "metadata": {},
   "outputs": [
    {
     "name": "stdout",
     "output_type": "stream",
     "text": [
      "My name is  Solomon Mbak I am 10 years old.\n",
      "Solomon Mbak is a friend of Evelyn Jane Doe  and they have known each other for 20 years.\n"
     ]
    }
   ],
   "source": [
    "print(\"My name is \",firstPerson,\"I am\",age_1,\"years old.\")\n",
    "print(firstPerson,\"is a friend of\", secondPerson, \" and they have known each other for\", age_2,\"years.\")"
   ]
  },
  {
   "cell_type": "code",
   "execution_count": 9,
   "metadata": {},
   "outputs": [
    {
     "data": {
      "text/plain": [
       "1.0"
      ]
     },
     "execution_count": 9,
     "metadata": {},
     "output_type": "execute_result"
    }
   ],
   "source": [
    "12 / 12"
   ]
  },
  {
   "cell_type": "code",
   "execution_count": 13,
   "metadata": {},
   "outputs": [
    {
     "data": {
      "text/plain": [
       "202122.0"
      ]
     },
     "execution_count": 13,
     "metadata": {},
     "output_type": "execute_result"
    }
   ],
   "source": [
    "(age_1 * age_2) / (age_1 * 10) + (100 + 202020)"
   ]
  },
  {
   "cell_type": "code",
   "execution_count": 18,
   "metadata": {
    "scrolled": true
   },
   "outputs": [
    {
     "name": "stdout",
     "output_type": "stream",
     "text": [
      "What do you earn?200.123\n",
      "Since you earn 200.123 your tax will be 15.009224999999999\n"
     ]
    }
   ],
   "source": [
    "userInput = float(input(\"What do you earn?\"))\n",
    "usersTax = (7.5/100) * userInput\n",
    "\n",
    "print(\"Since you earn\",userInput, \"your tax will be\",usersTax)"
   ]
  },
  {
   "cell_type": "code",
   "execution_count": 19,
   "metadata": {},
   "outputs": [
    {
     "name": "stdout",
     "output_type": "stream",
     "text": [
      "What is the temperature?585\n",
      "1085.0\n"
     ]
    }
   ],
   "source": [
    "# Convert temperature to Celsius\n",
    "# 9/5 * temperature + 32\n",
    "\n",
    "temperature = float(input(\"What is the temperature?\"))\n",
    "toCelsius = (9/5) * temperature + 32\n",
    "\n",
    "print(toCelsius)"
   ]
  },
  {
   "cell_type": "code",
   "execution_count": 21,
   "metadata": {},
   "outputs": [
    {
     "name": "stdout",
     "output_type": "stream",
     "text": [
      "11\n",
      "220\n"
     ]
    }
   ],
   "source": [
    "ab, bc = 11, 220\n",
    "print(ab)\n",
    "print(bc)"
   ]
  },
  {
   "cell_type": "code",
   "execution_count": 22,
   "metadata": {},
   "outputs": [
    {
     "name": "stdout",
     "output_type": "stream",
     "text": [
      "231\n"
     ]
    }
   ],
   "source": [
    "print(ab + bc)"
   ]
  },
  {
   "cell_type": "code",
   "execution_count": null,
   "metadata": {},
   "outputs": [],
   "source": []
  }
 ],
 "metadata": {
  "kernelspec": {
   "display_name": "Python 3",
   "language": "python",
   "name": "python3"
  },
  "language_info": {
   "codemirror_mode": {
    "name": "ipython",
    "version": 3
   },
   "file_extension": ".py",
   "mimetype": "text/x-python",
   "name": "python",
   "nbconvert_exporter": "python",
   "pygments_lexer": "ipython3",
   "version": "3.7.4"
  }
 },
 "nbformat": 4,
 "nbformat_minor": 2
}
