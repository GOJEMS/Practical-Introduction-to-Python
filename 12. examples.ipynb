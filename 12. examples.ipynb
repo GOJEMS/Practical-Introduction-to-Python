{
 "cells": [
  {
   "cell_type": "code",
   "execution_count": 1,
   "metadata": {},
   "outputs": [
    {
     "output_type": "stream",
     "name": "stdout",
     "text": "30\n"
    }
   ],
   "source": [
    "ourList = [1, 3, 12, -100, 30, -90]\n",
    "\n",
    "def maximum_number(list):\n",
    "    max = list[0]\n",
    "    for a in list:\n",
    "        if a > max:\n",
    "            max = a\n",
    "    return max\n",
    "print(maximum_number(ourList))\n"
   ]
  },
  {
   "cell_type": "code",
   "execution_count": 2,
   "metadata": {},
   "outputs": [
    {
     "output_type": "stream",
     "name": "stdout",
     "text": "1. Show Reminder\n2. New reminder\n3. Exit\n\nThere are no event(s) stored!\n\n1. Show Reminder\n2. New reminder\n3. Exit\n\n"
    }
   ],
   "source": [
    "dict = {}\n",
    "\n",
    "while True:\n",
    "    print(\"1. Show Reminder\")\n",
    "    print(\"2. New reminder\")\n",
    "    print(\"3. Exit\")\n",
    "    print(\"\")\n",
    "\n",
    "    \n",
    "    choice = int(input(\"Enter a number\"))\n",
    "    \n",
    "    if choice == 1:\n",
    "        if len(dict.keys())==0:\n",
    "            print(\"There are no event(s) stored!\")\n",
    "            print(\"\")\n",
    "\n",
    "        else:\n",
    "            name = input(\"Enter a name to search for an event...\")\n",
    "            theDate = dict.get(name, \"No data found!\")\n",
    "            print(theDate)\n",
    "            print(\"\")\n",
    "\n",
    "            \n",
    "    elif choice == 2:\n",
    "        name = input(\"Enter an event...\")\n",
    "        date = input(\"Enter a date...\")\n",
    "        dict[name]=date\n",
    "        print(\"Event added\")\n",
    "        print(\"\")\n",
    "        \n",
    "    elif choice == 3:\n",
    "        break\n",
    "    \n",
    "    else:\n",
    "        print(\"Please enter a valid number...\")\n",
    "        print(\"\")\n",
    "\n"
   ]
  },
  {
   "cell_type": "code",
   "execution_count": null,
   "metadata": {},
   "outputs": [],
   "source": []
  }
 ],
 "metadata": {
  "language_info": {
   "codemirror_mode": {
    "name": "ipython",
    "version": 3
   },
   "file_extension": ".py",
   "mimetype": "text/x-python",
   "name": "python",
   "nbconvert_exporter": "python",
   "pygments_lexer": "ipython3",
   "version": "3.7.4-final"
  },
  "orig_nbformat": 2,
  "kernelspec": {
   "name": "python3",
   "display_name": "Python 3"
  }
 },
 "nbformat": 4,
 "nbformat_minor": 2
}