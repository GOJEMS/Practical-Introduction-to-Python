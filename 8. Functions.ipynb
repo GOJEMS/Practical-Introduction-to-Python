{
 "cells": [
  {
   "cell_type": "code",
   "execution_count": 1,
   "metadata": {},
   "outputs": [],
   "source": [
    "# def functionName(arg1, ...):\n",
    "#     <statement>\n",
    "# return value"
   ]
  },
  {
   "cell_type": "code",
   "execution_count": 3,
   "metadata": {},
   "outputs": [
    {
     "output_type": "execute_result",
     "data": {
      "text/plain": "'Eva is learning!'"
     },
     "metadata": {},
     "execution_count": 3
    }
   ],
   "source": [
    "var1 = \"Eva is learning!\"\n",
    "var1"
   ]
  },
  {
   "cell_type": "code",
   "execution_count": 6,
   "metadata": {},
   "outputs": [
    {
     "output_type": "stream",
     "name": "stdout",
     "text": "Eva is still learning!\n"
    }
   ],
   "source": [
    "def function1():\n",
    "    print(\"Eva is still learning!\")\n",
    "\n",
    "function1()"
   ]
  },
  {
   "cell_type": "code",
   "execution_count": 13,
   "metadata": {},
   "outputs": [
    {
     "output_type": "stream",
     "name": "stdout",
     "text": "410\n"
    }
   ],
   "source": [
    "def function_2(num_1):\n",
    "    return num_1 + 200 * 2\n",
    "firstFunc = function_2(10)\n",
    "print(firstFunc)"
   ]
  },
  {
   "cell_type": "code",
   "execution_count": 14,
   "metadata": {},
   "outputs": [
    {
     "output_type": "stream",
     "name": "stdout",
     "text": "This is a calculation.\n10 is the first number and  20 is the second number.\n6.666666666666667\n"
    }
   ],
   "source": [
    "def function_3(a, b):\n",
    "    print(\"This is a calculation.\")\n",
    "    print(a,\"is the first number and \",b,\"is the second number.\")\n",
    "    return (a * b) / (a + b)\n",
    "\n",
    "secondFunc = function_3(10, 20)\n",
    "print(secondFunc)"
   ]
  },
  {
   "cell_type": "code",
   "execution_count": 19,
   "metadata": {},
   "outputs": [
    {
     "output_type": "stream",
     "name": "stdout",
     "text": "61.5\n"
    }
   ],
   "source": [
    "# print(firstFunc)\n",
    "# print(secondFunc)\n",
    "\n",
    "firstVar = firstFunc/secondFunc\n",
    "print(firstVar)"
   ]
  },
  {
   "cell_type": "code",
   "execution_count": 24,
   "metadata": {},
   "outputs": [],
   "source": [
    "# For the first person\n",
    "person_1 = \"Eva\"\n",
    "height_m_1 = 2\n",
    "weight_kg_1 = 85\n",
    "age1 = 24\n",
    "\n",
    "# For the Second person \n",
    "person_2 = \"Evelyn\"\n",
    "height_m_2 = 1.7\n",
    "weight_kg_2 = 79\n",
    "age2 = 42"
   ]
  },
  {
   "cell_type": "code",
   "execution_count": 21,
   "metadata": {},
   "outputs": [],
   "source": [
    "# The function\n",
    "def bmi_calc(person, height, weight, age):\n",
    "    bmi = weight / (height ** 2)\n",
    "    print(\"Your bmi is:\", bmi)\n",
    "    \n",
    "    if bmi < 25:\n",
    "        return person + \" not overweight\"\n",
    "    else:\n",
    "        return person + \" Overweigt\""
   ]
  },
  {
   "cell_type": "code",
   "execution_count": 25,
   "metadata": {},
   "outputs": [
    {
     "output_type": "stream",
     "name": "stdout",
     "text": "Your bmi is: 21.25\nYour bmi is: 27.33564013840831\n"
    }
   ],
   "source": [
    "# result\n",
    "firstPerson = bmi_calc(person_1, height_m_1, weight_kg_1, age1)\n",
    "secondPerson = bmi_calc(person_2, height_m_2, weight_kg_2, age2)"
   ]
  },
  {
   "cell_type": "code",
   "execution_count": 28,
   "metadata": {},
   "outputs": [
    {
     "output_type": "stream",
     "name": "stdout",
     "text": "At age:  24 - Eva not overweight\nAge:  42 - Evelyn Overweigt\n"
    }
   ],
   "source": [
    "print(\"At age: \",age1, \"-\", firstPerson)\n",
    "print(\"Age: \", age2, \"-\", secondPerson)"
   ]
  },
  {
   "cell_type": "code",
   "execution_count": null,
   "metadata": {},
   "outputs": [],
   "source": []
  }
 ],
 "metadata": {
  "language_info": {
   "codemirror_mode": {
    "name": "ipython",
    "version": 3
   },
   "file_extension": ".py",
   "mimetype": "text/x-python",
   "name": "python",
   "nbconvert_exporter": "python",
   "pygments_lexer": "ipython3",
   "version": "3.7.4-final"
  },
  "orig_nbformat": 2,
  "kernelspec": {
   "name": "python3",
   "display_name": "Python 3"
  }
 },
 "nbformat": 4,
 "nbformat_minor": 2
}