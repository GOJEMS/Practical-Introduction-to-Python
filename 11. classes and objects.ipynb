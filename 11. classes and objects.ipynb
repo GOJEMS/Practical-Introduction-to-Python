{
 "cells": [
  {
   "cell_type": "code",
   "execution_count": 3,
   "metadata": {},
   "outputs": [],
   "source": [
    "class User:\n",
    "    pass\n",
    "    "
   ]
  },
  {
   "cell_type": "code",
   "execution_count": 8,
   "metadata": {},
   "outputs": [
    {
     "output_type": "stream",
     "name": "stdout",
     "text": "1. Jane Doe 2. Eve Lyn\n"
    }
   ],
   "source": [
    "user1 = User()\n",
    "user2 = User()\n",
    "\n",
    "user1.fullname = \"Jane Doe\"\n",
    "user2.fullname = \"Eve Lyn\"\n",
    "\n",
    "print(\"1.\", user1.fullname, \"2.\", user2.fullname)\n"
   ]
  },
  {
   "cell_type": "code",
   "execution_count": 11,
   "metadata": {},
   "outputs": [
    {
     "output_type": "stream",
     "name": "stdout",
     "text": "John Dew  |  Jane Doe\n"
    }
   ],
   "source": [
    "fullname = \"John Dew\"\n",
    "\n",
    "print(fullname, \" | \", user1.fullname)"
   ]
  },
  {
   "cell_type": "code",
   "execution_count": 22,
   "metadata": {},
   "outputs": [],
   "source": [
    "class Urls:\n",
    "    def search_engine(self):\n",
    "        print(\"The Search engine is: \" + self.name)\n",
    "        print(\"The url is: \" + self.url)\n",
    "\n",
    "site_one = Urls()\n",
    "site_one.name = \"Google\"\n",
    "site_one.url = \"google.com\"\n",
    "\n",
    "\n",
    "site_two = Urls()\n",
    "site_two.name = \"BING\"\n",
    "site_two.url = \"bing.com\"\n",
    "\n",
    "site_three = Urls()\n",
    "site_three.name = \"Yahoo\"\n",
    "site_three.url = \"yahoo.com\""
   ]
  },
  {
   "cell_type": "code",
   "execution_count": 24,
   "metadata": {},
   "outputs": [
    {
     "output_type": "stream",
     "name": "stdout",
     "text": "The Search engine is: Google\nThe url is: google.com\n\nThe Search engine is: BING\nThe url is: bing.com\n\nThe Search engine is: Yahoo\nThe url is: yahoo.com\n"
    }
   ],
   "source": [
    "site_one.search_engine()\n",
    "print(\"\")\n",
    "site_two.search_engine()\n",
    "print(\"\")\n",
    "site_three.search_engine()\n"
   ]
  },
  {
   "cell_type": "code",
   "execution_count": 33,
   "metadata": {},
   "outputs": [
    {
     "output_type": "stream",
     "name": "stdout",
     "text": "The first name is:  Evelyn\nThe last name is:  Doe\nThe country is:  Nigeria\nThe continent is:  Africa\n"
    }
   ],
   "source": [
    "class Users:\n",
    "    def __init__(self, full_name, the_country, the_continent):\n",
    "        self.full_name = full_name\n",
    "        self.the_country = the_country\n",
    "        self.the_continent = the_continent\n",
    "\n",
    "        split_name = full_name.split(\" \")\n",
    "        self.the_first_name = split_name[0]\n",
    "        self.the_last_name = split_name[-1]\n",
    "\n",
    "users = Users(\"Evelyn Doe\", \"Nigeria\", \"Africa\")\n",
    "\n",
    "print(\"The first name is: \", users.the_first_name)\n",
    "print(\"The last name is: \", users.the_last_name)\n",
    "print(\"The country is: \",users.the_country)\n",
    "print(\"The continent is: \",users.the_continent)"
   ]
  }
 ],
 "metadata": {
  "language_info": {
   "codemirror_mode": {
    "name": "ipython",
    "version": 3
   },
   "file_extension": ".py",
   "mimetype": "text/x-python",
   "name": "python",
   "nbconvert_exporter": "python",
   "pygments_lexer": "ipython3",
   "version": "3.7.4-final"
  },
  "orig_nbformat": 2,
  "kernelspec": {
   "name": "python3",
   "display_name": "Python 3"
  }
 },
 "nbformat": 4,
 "nbformat_minor": 2
}