{
 "cells": [
  {
   "cell_type": "markdown",
   "metadata": {},
   "source": [
    "# Conditional Statements"
   ]
  },
  {
   "cell_type": "code",
   "execution_count": 1,
   "metadata": {},
   "outputs": [],
   "source": [
    "# if condition:\n",
    "#     statement\n",
    "# elif condition:\n",
    "#     statement\n",
    "# else:\n",
    "#     statement"
   ]
  },
  {
   "cell_type": "code",
   "execution_count": 3,
   "metadata": {},
   "outputs": [
    {
     "name": "stdout",
     "output_type": "stream",
     "text": [
      "11 is smaller\n"
     ]
    }
   ],
   "source": [
    "if 12 < 11:\n",
    "    print(\"10 is smaller\")\n",
    "else:\n",
    "    print(\"11 is smaller\")"
   ]
  },
  {
   "cell_type": "code",
   "execution_count": 12,
   "metadata": {},
   "outputs": [
    {
     "name": "stdout",
     "output_type": "stream",
     "text": [
      "10 is smaller\n"
     ]
    }
   ],
   "source": [
    "var1 = 10\n",
    "var2 = 11\n",
    "var3 = 11\n",
    "\n",
    "if var1 < var2:\n",
    "    print(\"10 is smaller\")\n",
    "else:\n",
    "    print(\"11 is smaller\")"
   ]
  },
  {
   "cell_type": "code",
   "execution_count": 13,
   "metadata": {},
   "outputs": [
    {
     "name": "stdout",
     "output_type": "stream",
     "text": [
      "10 is smaller\n"
     ]
    }
   ],
   "source": [
    "if var1 < var2:\n",
    "    print(\"10 is smaller\")\n",
    "elif var1 < var3:\n",
    "    print(\"Var1 is smaller\")\n",
    "elif var2 == var3:\n",
    "    print(\"Var2 and 3 are the same\")\n",
    "else:\n",
    "    print(\"11 is smaller\")"
   ]
  },
  {
   "cell_type": "code",
   "execution_count": 14,
   "metadata": {},
   "outputs": [],
   "source": [
    "# Declearing variables\n",
    "var4, var5 = 7, 6\n",
    "# var4 = 7\n",
    "# var5 = 6"
   ]
  },
  {
   "cell_type": "code",
   "execution_count": 17,
   "metadata": {},
   "outputs": [
    {
     "name": "stdout",
     "output_type": "stream",
     "text": [
      "they now have the same values\n"
     ]
    }
   ],
   "source": [
    "if var4 < var5:\n",
    "    print(\"var5 is greater.\")\n",
    "else:\n",
    "    if var4 == var5:\n",
    "        print(\"they are the same.\")\n",
    "    elif var4 == var5 + 1:\n",
    "        print(\"they now have the same values\")\n",
    "    else:\n",
    "        print(\"They are not related at all\")"
   ]
  },
  {
   "cell_type": "code",
   "execution_count": 20,
   "metadata": {},
   "outputs": [
    {
     "name": "stdout",
     "output_type": "stream",
     "text": [
      "The area is 12.56\n",
      "The area is less than 25\n"
     ]
    }
   ],
   "source": [
    "# Area = PI * (r ** 2)\n",
    "\n",
    "# variables\n",
    "PI = 3.14\n",
    "r = 2\n",
    "\n",
    "# calculation\n",
    "Area = PI * (r ** 2)\n",
    "\n",
    "if Area < 25:\n",
    "    print(\"The area is\", Area)\n",
    "    print(\"The area is less than 25\")\n",
    "else:\n",
    "    print(\"The area is \", Area)\n",
    "    print(\"The area is not less than 25\")"
   ]
  },
  {
   "cell_type": "code",
   "execution_count": 22,
   "metadata": {},
   "outputs": [
    {
     "name": "stdout",
     "output_type": "stream",
     "text": [
      "What is your Username?Eva\n",
      "Welcome Eva\n"
     ]
    }
   ],
   "source": [
    "theUsername = \"Eva\"\n",
    "\n",
    "inputUsername = str(input(\"What is your Username?\"))\n",
    "\n",
    "if inputUsername == theUsername:\n",
    "    print(\"Welcome\", theUsername)\n",
    "else:\n",
    "    print(\"Access Denied!\")"
   ]
  },
  {
   "cell_type": "code",
   "execution_count": 29,
   "metadata": {},
   "outputs": [
    {
     "name": "stdout",
     "output_type": "stream",
     "text": [
      "What is your name? Solomon\n",
      "You weight (kg) 80\n",
      "You height (m) 1.3\n",
      "47.33727810650887 is not good for you.  your need to check your diet.\n"
     ]
    }
   ],
   "source": [
    "# bmi = weight_kg / (height_m ** 2)\n",
    "\n",
    "yourName = str(input(\"What is your name? \"))\n",
    "weight_kg = float(input(\"You weight (kg) \"))\n",
    "height_m = float(input(\"You height (m) \"))\n",
    "\n",
    "bmi = weight_kg / (height_m ** 2)\n",
    "# bmi\n",
    "\n",
    "\n",
    "if bmi < 25:\n",
    "    print(bmi, \"is a good number. \", \"You are healthy!\")\n",
    "else:\n",
    "    print(bmi, \"is not good for you. \", \"your need to check your diet.\")"
   ]
  },
  {
   "cell_type": "code",
   "execution_count": null,
   "metadata": {},
   "outputs": [],
   "source": []
  },
  {
   "cell_type": "markdown",
   "metadata": {},
   "source": [
    "# Loops"
   ]
  },
  {
   "cell_type": "markdown",
   "metadata": {},
   "source": [
    "## for"
   ]
  },
  {
   "cell_type": "code",
   "execution_count": 34,
   "metadata": {},
   "outputs": [
    {
     "name": "stdout",
     "output_type": "stream",
     "text": [
      "0\n",
      "1\n",
      "2\n",
      "3\n",
      "4\n",
      "5\n",
      "6\n",
      "7\n",
      "8\n",
      "9\n",
      "10\n"
     ]
    }
   ],
   "source": [
    "for theNumbers in range(11):\n",
    "    print(theNumbers)"
   ]
  },
  {
   "cell_type": "code",
   "execution_count": 36,
   "metadata": {},
   "outputs": [
    {
     "name": "stdout",
     "output_type": "stream",
     "text": [
      "Hello Evelyn!\n",
      "Hello Evelyn!\n",
      "Hello Evelyn!\n",
      "Hello Evelyn!\n",
      "Hello Evelyn!\n",
      "Hello Evelyn!\n"
     ]
    }
   ],
   "source": [
    "for theInfo in range(5,11):\n",
    "    print(\"Hello Evelyn!\")"
   ]
  },
  {
   "cell_type": "code",
   "execution_count": 38,
   "metadata": {},
   "outputs": [
    {
     "name": "stdout",
     "output_type": "stream",
     "text": [
      "1 - Hello Evelyn!\n",
      "2 - Hello Evelyn!\n",
      "3 - Hello Evelyn!\n",
      "4 - Hello Evelyn!\n",
      "5 - Hello Evelyn!\n",
      "6 - Hello Evelyn!\n"
     ]
    }
   ],
   "source": [
    "for theInfo in range(6):\n",
    "    print(theInfo + 1, \"- Hello Evelyn!\")"
   ]
  },
  {
   "cell_type": "code",
   "execution_count": 43,
   "metadata": {},
   "outputs": [
    {
     "name": "stdout",
     "output_type": "stream",
     "text": [
      "Yam\n",
      "Potato\n",
      "Groundnut\n"
     ]
    }
   ],
   "source": [
    "myList1 = [\"Yam\", \"Potato\", \"Groundnut\"]\n",
    "\n",
    "for a in myList1:\n",
    "    print(a)"
   ]
  },
  {
   "cell_type": "code",
   "execution_count": 51,
   "metadata": {},
   "outputs": [
    {
     "data": {
      "text/plain": [
       "[1, 2, 3, 4, 5]"
      ]
     },
     "execution_count": 51,
     "metadata": {},
     "output_type": "execute_result"
    }
   ],
   "source": [
    "myList2 = list(range(1,6))\n",
    "myList2"
   ]
  },
  {
   "cell_type": "code",
   "execution_count": 47,
   "metadata": {},
   "outputs": [
    {
     "name": "stdout",
     "output_type": "stream",
     "text": [
      "15\n"
     ]
    }
   ],
   "source": [
    "total = 0\n",
    "\n",
    "for b in myList2:\n",
    "    total = total + b\n",
    "print(total)"
   ]
  },
  {
   "cell_type": "code",
   "execution_count": 52,
   "metadata": {},
   "outputs": [
    {
     "name": "stdout",
     "output_type": "stream",
     "text": [
      "15\n"
     ]
    }
   ],
   "source": [
    "total1 = 0\n",
    "\n",
    "for c in myList2:\n",
    "    total1 += c\n",
    "print(total1)"
   ]
  },
  {
   "cell_type": "code",
   "execution_count": 53,
   "metadata": {},
   "outputs": [
    {
     "name": "stdout",
     "output_type": "stream",
     "text": [
      "it is the same as 55\n"
     ]
    }
   ],
   "source": [
    "total2 = 0\n",
    "\n",
    "for d in range(1,11):\n",
    "    total2 += d\n",
    "\n",
    "if total2 > 100:\n",
    "    print(\"total is less than 100\")\n",
    "elif total2 == 55:\n",
    "    print(\"it is the same as 55\")\n",
    "else:\n",
    "    print(\"It is just a positive value.\")"
   ]
  },
  {
   "cell_type": "code",
   "execution_count": null,
   "metadata": {},
   "outputs": [],
   "source": []
  },
  {
   "cell_type": "markdown",
   "metadata": {},
   "source": [
    "## while"
   ]
  },
  {
   "cell_type": "code",
   "execution_count": 56,
   "metadata": {},
   "outputs": [
    {
     "name": "stdout",
     "output_type": "stream",
     "text": [
      "0\n",
      "1\n",
      "2\n",
      "3\n",
      "4\n",
      "5\n",
      "6\n",
      "7\n",
      "8\n",
      "9\n",
      "10\n"
     ]
    }
   ],
   "source": [
    "i = 0\n",
    "\n",
    "while i < 11:\n",
    "    print(i)\n",
    "    i += 1"
   ]
  },
  {
   "cell_type": "code",
   "execution_count": 57,
   "metadata": {},
   "outputs": [
    {
     "name": "stdout",
     "output_type": "stream",
     "text": [
      "55\n"
     ]
    }
   ],
   "source": [
    "total5 = 0\n",
    "k = 1\n",
    "\n",
    "while k < 11:\n",
    "    total5 += k\n",
    "    k += 1\n",
    "print(total5)"
   ]
  },
  {
   "cell_type": "code",
   "execution_count": 58,
   "metadata": {},
   "outputs": [
    {
     "data": {
      "text/plain": [
       "[1, 2, 4, 5, 10, -1, -14, -90]"
      ]
     },
     "execution_count": 58,
     "metadata": {},
     "output_type": "execute_result"
    }
   ],
   "source": [
    "myList3 = [1,2,4,5, 10, -1, -14, -90]\n",
    "myList3"
   ]
  },
  {
   "cell_type": "code",
   "execution_count": 59,
   "metadata": {},
   "outputs": [
    {
     "name": "stdout",
     "output_type": "stream",
     "text": [
      "22\n"
     ]
    }
   ],
   "source": [
    "total6 = 0\n",
    "\n",
    "for m in myList3:\n",
    "    if m <= 0:\n",
    "        break\n",
    "    total6 += m\n",
    "print(total6)"
   ]
  },
  {
   "cell_type": "code",
   "execution_count": 60,
   "metadata": {},
   "outputs": [
    {
     "name": "stdout",
     "output_type": "stream",
     "text": [
      "1\n",
      "2\n",
      "4\n",
      "5\n",
      "10\n"
     ]
    }
   ],
   "source": [
    "positiveNumbers = 0\n",
    "\n",
    "while positiveNumbers < len(myList3):\n",
    "    if myList3[positiveNumbers] >= 0:\n",
    "        print(myList3[positiveNumbers])\n",
    "    positiveNumbers += 1"
   ]
  },
  {
   "cell_type": "code",
   "execution_count": null,
   "metadata": {},
   "outputs": [],
   "source": []
  }
 ],
 "metadata": {
  "kernelspec": {
   "display_name": "Python 3",
   "language": "python",
   "name": "python3"
  },
  "language_info": {
   "codemirror_mode": {
    "name": "ipython",
    "version": 3
   },
   "file_extension": ".py",
   "mimetype": "text/x-python",
   "name": "python",
   "nbconvert_exporter": "python",
   "pygments_lexer": "ipython3",
   "version": "3.7.4"
  }
 },
 "nbformat": 4,
 "nbformat_minor": 2
}
